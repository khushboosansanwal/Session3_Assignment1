{
 "cells": [
  {
   "cell_type": "markdown",
   "metadata": {},
   "source": [
    "# Assignment 3\n",
    "\n",
    "## Question 1.1 \n",
    "Implementation of myreduce() function which works exactly like python's built-in function reduce() "
   ]
  },
  {
   "cell_type": "code",
   "execution_count": 1,
   "metadata": {},
   "outputs": [
    {
     "name": "stdout",
     "output_type": "stream",
     "text": [
      "113\n"
     ]
    }
   ],
   "source": [
    "def myreduce(func,seq):                          ### myreduce function takes two arguments func and seq from the function call              \n",
    "    result=seq[0]                                ### first element in the seq i.e with index 0 is stored in variable result                            \n",
    "    for i in seq[1:]:                            ### loop starts from index 1 till the end of the sequence   \n",
    "        result=func(result,i)                    ### func takes two arguments result and i to continuously perform the reduce function on all the elements in seq\n",
    "    return result                                ### result stores the single value obtained by combining all the elements of seq via supplied func\n",
    "    \n",
    "print(myreduce((lambda x,y:x+y),[47,11,42,13]))  ###myreduce function call where func is defined using lambda "
   ]
  },
  {
   "cell_type": "markdown",
   "metadata": {},
   "source": [
    "## Question 1.2 \n",
    "Implementation of myfilter() function which works exactly like python's built-in function filter()"
   ]
  },
  {
   "cell_type": "code",
   "execution_count": 13,
   "metadata": {},
   "outputs": [
    {
     "name": "stdout",
     "output_type": "stream",
     "text": [
      "[-1, -2]\n"
     ]
    }
   ],
   "source": [
    "def myfilter(func,seq):                       ### myfilter function takes two arguments func and seq from the function call\n",
    "    result=[]                                 ### empty list is created\n",
    "    for x in seq:                             ### for every element in seq\n",
    "        if func(x):                           ###     if func is true\n",
    "            result.append(x)                  ###         then append the element in result\n",
    "    return result                             ### result stores the final list obtained by appending all the elements to it for which the func returns true\n",
    "\n",
    "print(myfilter((lambda x:x<0),[-1,-2,42,13])) ### myfilter function call"
   ]
  },
  {
   "cell_type": "markdown",
   "metadata": {},
   "source": [
    "## Question 2 \n",
    "Implementation of list comprehensions to produce the following lists :"
   ]
  },
  {
   "cell_type": "markdown",
   "metadata": {},
   "source": [
    "## ['A','C','A','D','G','I','L','D']"
   ]
  },
  {
   "cell_type": "code",
   "execution_count": 3,
   "metadata": {},
   "outputs": [
    {
     "data": {
      "text/plain": [
       "['A', 'C', 'A', 'D', 'G', 'I', 'L', 'D']"
      ]
     },
     "execution_count": 3,
     "metadata": {},
     "output_type": "execute_result"
    }
   ],
   "source": [
    "[s.upper() for s in 'acadgild'] "
   ]
  },
  {
   "cell_type": "markdown",
   "metadata": {},
   "source": [
    "## ['x','xx','xxx','xxxx','y','yy','yyy','yyyy','z','zz','zzz','zzzz']"
   ]
  },
  {
   "cell_type": "code",
   "execution_count": 4,
   "metadata": {},
   "outputs": [
    {
     "data": {
      "text/plain": [
       "['x', 'xx', 'xxx', 'xxxx', 'y', 'yy', 'yyy', 'yyyy', 'z', 'zz', 'zzz', 'zzzz']"
      ]
     },
     "execution_count": 4,
     "metadata": {},
     "output_type": "execute_result"
    }
   ],
   "source": [
    "[s*num for s in ['x','y','z'] for num in range(1,5)]"
   ]
  },
  {
   "cell_type": "markdown",
   "metadata": {},
   "source": [
    "## ['x','y','z','xx','yy','zz','xxx','yyy','zzz','xxxx','yyyy','zzzz']"
   ]
  },
  {
   "cell_type": "code",
   "execution_count": 5,
   "metadata": {},
   "outputs": [
    {
     "data": {
      "text/plain": [
       "['x', 'y', 'z', 'xx', 'yy', 'zz', 'xxx', 'yyy', 'zzz', 'xxxx', 'yyyy', 'zzzz']"
      ]
     },
     "execution_count": 5,
     "metadata": {},
     "output_type": "execute_result"
    }
   ],
   "source": [
    "[s*num for num in range(1,5) for s in ['x','y','z']] "
   ]
  },
  {
   "cell_type": "markdown",
   "metadata": {},
   "source": [
    "## [[2],[3],[4],[3],[4],[5],[4],[5],[6]]"
   ]
  },
  {
   "cell_type": "code",
   "execution_count": 6,
   "metadata": {},
   "outputs": [
    {
     "data": {
      "text/plain": [
       "[[2], [3], [4], [3], [4], [5], [4], [5], [6]]"
      ]
     },
     "execution_count": 6,
     "metadata": {},
     "output_type": "execute_result"
    }
   ],
   "source": [
    "[ [item+num] for item in [2,3,4] for num in range(0,3)]"
   ]
  },
  {
   "cell_type": "markdown",
   "metadata": {},
   "source": [
    "## [[2,3,4,5],[3,4,5,6],[4,5,6,7],[5,6,7,8]]"
   ]
  },
  {
   "cell_type": "code",
   "execution_count": 7,
   "metadata": {},
   "outputs": [
    {
     "data": {
      "text/plain": [
       "[[2, 3, 4, 5], [3, 4, 5, 6], [4, 5, 6, 7], [5, 6, 7, 8]]"
      ]
     },
     "execution_count": 7,
     "metadata": {},
     "output_type": "execute_result"
    }
   ],
   "source": [
    "[ [item+num for item in [2,3,4,5]] for num in range(0,4)  ]"
   ]
  },
  {
   "cell_type": "markdown",
   "metadata": {},
   "source": [
    "## [(1,1),(2,1),(3,1),(1,2),(2,2),(3,2),(1,3),(2,3),(3,3)]"
   ]
  },
  {
   "cell_type": "code",
   "execution_count": 8,
   "metadata": {},
   "outputs": [
    {
     "data": {
      "text/plain": [
       "[(1, 1), (2, 1), (3, 1), (1, 2), (2, 2), (3, 2), (1, 3), (2, 3), (3, 3)]"
      ]
     },
     "execution_count": 8,
     "metadata": {},
     "output_type": "execute_result"
    }
   ],
   "source": [
    "[(item,num) for num in range(1,4) for item in [1,2,3]]"
   ]
  },
  {
   "cell_type": "markdown",
   "metadata": {},
   "source": [
    "## Question 3 \n",
    "Implementation of a function longestWord() which takes a list of words and returns the longest word"
   ]
  },
  {
   "cell_type": "code",
   "execution_count": 12,
   "metadata": {},
   "outputs": [
    {
     "name": "stdout",
     "output_type": "stream",
     "text": [
      "[(3, 'six'), (4, 'five'), (4, 'four'), (5, 'seven'), (6, 'twenty')]\n",
      "Longest word:  twenty\n"
     ]
    }
   ],
   "source": [
    "def longestWord(seq):                   ### function longestWord takes only one argument seq which is a list of words\n",
    "    word_len = []                       ### empty list created\n",
    "    for n in seq:                       ### for every item in seq\n",
    "        word_len.append((len(n), n))    ###     append the length of item and the item itself in list word_len\n",
    "    word_len.sort()                     ### sort() method sorts the list in ascending order\n",
    "    print(word_len)                     ### prints the items stored in word_len i.e. (length_of_word,word)\n",
    "    return word_len[-1][1]              ### returns the second item(index= 1) of the last element(index=-1) in the list\n",
    "\n",
    "print(\"Longest word: \",longestWord([\"four\",\"five\", \"seven\", \"twenty\",\"six\"])) "
   ]
  }
 ],
 "metadata": {
  "kernelspec": {
   "display_name": "Python 3",
   "language": "python",
   "name": "python3"
  },
  "language_info": {
   "codemirror_mode": {
    "name": "ipython",
    "version": 3
   },
   "file_extension": ".py",
   "mimetype": "text/x-python",
   "name": "python",
   "nbconvert_exporter": "python",
   "pygments_lexer": "ipython3",
   "version": "3.7.0"
  }
 },
 "nbformat": 4,
 "nbformat_minor": 2
}
